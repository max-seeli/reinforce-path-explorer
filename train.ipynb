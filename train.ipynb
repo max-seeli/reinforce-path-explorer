{
 "cells": [
  {
   "cell_type": "markdown",
   "metadata": {},
   "source": [
    "# Training Reinforcement Learning Agent\n",
    "This notebook contains all the necessary code to train different policies and compare them to analyze the performance of the agent."
   ]
  },
  {
   "cell_type": "markdown",
   "metadata": {},
   "source": [
    "## Imports and global settings\n",
    "The following section imports all necessary modules to train the agent and sets global settings."
   ]
  },
  {
   "cell_type": "code",
   "execution_count": null,
   "metadata": {},
   "outputs": [],
   "source": [
    "from monte_carlo_eval import eval\n",
    "import pandas as pd"
   ]
  },
  {
   "cell_type": "markdown",
   "metadata": {},
   "source": [
    "Afterwards we remove and add a directory which is used to save the metrics for a trainings-run."
   ]
  },
  {
   "cell_type": "code",
   "execution_count": null,
   "metadata": {},
   "outputs": [],
   "source": [
    "!rm -r ./performance-logs\n",
    "!mkdir ./performance-logs"
   ]
  },
  {
   "cell_type": "markdown",
   "metadata": {},
   "source": [
    "The following lines of code set the global parameters for the Monte Carlo simulation. The parameters are:"
   ]
  },
  {
   "cell_type": "code",
   "execution_count": null,
   "metadata": {},
   "outputs": [],
   "source": [
    "num_episodes = 10_000\n",
    "checkpoint = 200"
   ]
  },
  {
   "cell_type": "markdown",
   "metadata": {},
   "source": [
    "Lastly, the following method performs the evaluation and saves them into dataframes for further analysis."
   ]
  },
  {
   "cell_type": "code",
   "execution_count": null,
   "metadata": {},
   "outputs": [],
   "source": [
    "def addMetrics(map, epsilon, checkpoint, df_total_times, df_epoch_times, df_overall_performance, df_checkpoint_effectiveness):\n",
    "    # Evaluate the performance of the agent\n",
    "    total_time, epoch_times, overall_effectiveness, checkpoint_effectiveness = eval(map, epsilon, num_episodes, checkpoint)\n",
    "\n",
    "    # Add the performance metrics to the dataframes\n",
    "    df_total_times = pd.concat([pd.DataFrame([[map, epsilon, total_time]], columns=df_total_times.columns), df_total_times], ignore_index=True)\n",
    "    df_overall_performance = pd.concat([pd.DataFrame([[map, epsilon, overall_effectiveness]], columns=df_overall_performance.columns), df_overall_performance], ignore_index=True)\n",
    "    for i, epoch_time in enumerate(epoch_times):\n",
    "        df_epoch_times = pd.concat([pd.DataFrame([[map, epsilon, i+1, epoch_time]], columns=df_epoch_times.columns), df_epoch_times], ignore_index=True)\n",
    "\n",
    "    for i, epoch_time in enumerate(checkpoint_effectiveness):\n",
    "        df_checkpoint_effectiveness = pd.concat([pd.DataFrame([[map, epsilon, (i+1)*checkpoint, epoch_time]], columns=df_checkpoint_effectiveness.columns), df_checkpoint_effectiveness], ignore_index=True)\n",
    "    \n",
    "    return df_total_times, df_epoch_times, df_overall_performance, df_checkpoint_effectiveness "
   ]
  },
  {
   "cell_type": "markdown",
   "metadata": {},
   "source": [
    "## Map 1\n",
    "This section performs the evaluation of the reinforcement agent for `maps/map1.txt` for epsilon `0.9`, `0.7` and `0.5` respectively."
   ]
  },
  {
   "cell_type": "code",
   "execution_count": null,
   "metadata": {},
   "outputs": [],
   "source": [
    "df_total_times = pd.DataFrame(columns = ['map', 'epsilon', 'total_time'])\n",
    "df_epoch_times = pd.DataFrame(columns = ['map', 'epsilon', 'episode', 'epoch_time'])\n",
    "df_overall_performance = pd.DataFrame(columns = ['map', 'epsilon', 'overall_performance'])\n",
    "df_checkpoint_effectiveness = pd.DataFrame(columns = ['map', 'epsilon', 'episode', 'checkpoint_effectiveness'])"
   ]
  },
  {
   "cell_type": "code",
   "execution_count": null,
   "metadata": {},
   "outputs": [],
   "source": [
    "map_name = \"map1\""
   ]
  },
  {
   "cell_type": "markdown",
   "metadata": {},
   "source": [
    "### Epsilon 0.9"
   ]
  },
  {
   "cell_type": "code",
   "execution_count": null,
   "metadata": {},
   "outputs": [],
   "source": [
    "df_total_times, df_epoch_times, df_overall_performance, df_checkpoint_effectiveness = addMetrics(map_name, 0.9, checkpoint, df_total_times, df_epoch_times, df_overall_performance, df_checkpoint_effectiveness)"
   ]
  },
  {
   "cell_type": "markdown",
   "metadata": {},
   "source": [
    "### Epsilon 0.7"
   ]
  },
  {
   "cell_type": "code",
   "execution_count": null,
   "metadata": {},
   "outputs": [],
   "source": [
    "df_total_times, df_epoch_times, df_overall_performance, df_checkpoint_effectiveness = addMetrics(map_name, 0.7, checkpoint, df_total_times, df_epoch_times, df_overall_performance, df_checkpoint_effectiveness)"
   ]
  },
  {
   "cell_type": "markdown",
   "metadata": {},
   "source": [
    "### Epsilon 0.5"
   ]
  },
  {
   "cell_type": "code",
   "execution_count": null,
   "metadata": {},
   "outputs": [],
   "source": [
    "df_total_times, df_epoch_times, df_overall_performance, df_checkpoint_effectiveness = addMetrics(map_name, 0.5, checkpoint, df_total_times, df_epoch_times, df_overall_performance, df_checkpoint_effectiveness)"
   ]
  },
  {
   "cell_type": "markdown",
   "metadata": {},
   "source": [
    "### Caching of results"
   ]
  },
  {
   "cell_type": "code",
   "execution_count": null,
   "metadata": {},
   "outputs": [],
   "source": [
    "df_total_times.to_csv(f'./performance-logs/df_total_times_{map_name}.csv', index=False)\n",
    "df_epoch_times.to_csv(f'./performance-logs/df_epoch_times_{map_name}.csv', index=False)\n",
    "df_overall_performance.to_csv(f'./performance-logs/df_overall_performance_{map_name}.csv', index=False)\n",
    "df_checkpoint_effectiveness.to_csv(f'./performance-logs/df_checkpoint_effectiveness_{map_name}.csv', index=False)"
   ]
  },
  {
   "cell_type": "markdown",
   "metadata": {},
   "source": [
    "## Map 2\n",
    "This section performs the evaluation of the reinforcement agent for `maps/map2.txt` for epsilon `0.9`, `0.7` and `0.5` respectively."
   ]
  },
  {
   "cell_type": "code",
   "execution_count": null,
   "metadata": {},
   "outputs": [],
   "source": [
    "df_total_times = pd.DataFrame(columns = ['map', 'epsilon', 'total_time'])\n",
    "df_epoch_times = pd.DataFrame(columns = ['map', 'epsilon', 'episode', 'epoch_time'])\n",
    "df_overall_performance = pd.DataFrame(columns = ['map', 'epsilon', 'overall_performance'])\n",
    "df_checkpoint_effectiveness = pd.DataFrame(columns = ['map', 'epsilon', 'episode', 'checkpoint_effectiveness'])"
   ]
  },
  {
   "cell_type": "code",
   "execution_count": null,
   "metadata": {},
   "outputs": [],
   "source": [
    "map_name = \"map2\""
   ]
  },
  {
   "cell_type": "markdown",
   "metadata": {},
   "source": [
    "### Epsilon 0.9"
   ]
  },
  {
   "cell_type": "code",
   "execution_count": null,
   "metadata": {},
   "outputs": [],
   "source": [
    "df_total_times, df_epoch_times, df_overall_performance, df_checkpoint_effectiveness = addMetrics(map_name, 0.9, checkpoint, df_total_times, df_epoch_times, df_overall_performance, df_checkpoint_effectiveness)"
   ]
  },
  {
   "cell_type": "markdown",
   "metadata": {},
   "source": [
    "### Epsilon 0.7"
   ]
  },
  {
   "cell_type": "code",
   "execution_count": null,
   "metadata": {},
   "outputs": [],
   "source": [
    "df_total_times, df_epoch_times, df_overall_performance, df_checkpoint_effectiveness = addMetrics(map_name, 0.7, checkpoint, df_total_times, df_epoch_times, df_overall_performance, df_checkpoint_effectiveness)"
   ]
  },
  {
   "cell_type": "markdown",
   "metadata": {},
   "source": [
    "### Epsilon 0.5"
   ]
  },
  {
   "cell_type": "code",
   "execution_count": null,
   "metadata": {},
   "outputs": [],
   "source": [
    "df_total_times, df_epoch_times, df_overall_performance, df_checkpoint_effectiveness = addMetrics(map_name, 0.5, checkpoint, df_total_times, df_epoch_times, df_overall_performance, df_checkpoint_effectiveness)"
   ]
  },
  {
   "cell_type": "markdown",
   "metadata": {},
   "source": [
    "### Caching of results"
   ]
  },
  {
   "cell_type": "code",
   "execution_count": null,
   "metadata": {},
   "outputs": [],
   "source": [
    "df_total_times.to_csv(f'./performance-logs/df_total_times_{map_name}.csv', index=False)\n",
    "df_epoch_times.to_csv(f'./performance-logs/df_epoch_times_{map_name}.csv', index=False)\n",
    "df_overall_performance.to_csv(f'./performance-logs/df_overall_performance_{map_name}.csv', index=False)\n",
    "df_checkpoint_effectiveness.to_csv(f'./performance-logs/df_checkpoint_effectiveness_{map_name}.csv', index=False)"
   ]
  },
  {
   "cell_type": "markdown",
   "metadata": {},
   "source": [
    "## Map 3\n",
    "This section performs the evaluation of the reinforcement agent for `maps/map3.txt` for epsilon `0.9`, `0.7` and `0.5` respectively."
   ]
  },
  {
   "cell_type": "code",
   "execution_count": null,
   "metadata": {},
   "outputs": [],
   "source": [
    "df_total_times = pd.DataFrame(columns = ['map', 'epsilon', 'total_time'])\n",
    "df_epoch_times = pd.DataFrame(columns = ['map', 'epsilon', 'episode', 'epoch_time'])\n",
    "df_overall_performance = pd.DataFrame(columns = ['map', 'epsilon', 'overall_performance'])\n",
    "df_checkpoint_effectiveness = pd.DataFrame(columns = ['map', 'epsilon', 'episode', 'checkpoint_effectiveness'])"
   ]
  },
  {
   "cell_type": "code",
   "execution_count": null,
   "metadata": {},
   "outputs": [],
   "source": [
    "map_name = \"map3\""
   ]
  },
  {
   "cell_type": "markdown",
   "metadata": {},
   "source": [
    "### Epsilon 0.9"
   ]
  },
  {
   "cell_type": "code",
   "execution_count": null,
   "metadata": {},
   "outputs": [],
   "source": [
    "df_total_times, df_epoch_times, df_overall_performance, df_checkpoint_effectiveness = addMetrics(map_name, 0.9, checkpoint, df_total_times, df_epoch_times, df_overall_performance, df_checkpoint_effectiveness)"
   ]
  },
  {
   "cell_type": "markdown",
   "metadata": {},
   "source": [
    "### Epsilon 0.7"
   ]
  },
  {
   "cell_type": "code",
   "execution_count": null,
   "metadata": {},
   "outputs": [],
   "source": [
    "df_total_times, df_epoch_times, df_overall_performance, df_checkpoint_effectiveness = addMetrics(map_name, 0.7, checkpoint, df_total_times, df_epoch_times, df_overall_performance, df_checkpoint_effectiveness)"
   ]
  },
  {
   "cell_type": "markdown",
   "metadata": {},
   "source": [
    "### Epsilon 0.5"
   ]
  },
  {
   "cell_type": "code",
   "execution_count": null,
   "metadata": {},
   "outputs": [],
   "source": [
    "df_total_times, df_epoch_times, df_overall_performance, df_checkpoint_effectiveness = addMetrics(map_name, 0.5, checkpoint, df_total_times, df_epoch_times, df_overall_performance, df_checkpoint_effectiveness)"
   ]
  },
  {
   "cell_type": "markdown",
   "metadata": {},
   "source": [
    "### Caching of results"
   ]
  },
  {
   "cell_type": "code",
   "execution_count": null,
   "metadata": {},
   "outputs": [],
   "source": [
    "df_total_times.to_csv(f'./performance-logs/df_total_times_{map_name}.csv', index=False)\n",
    "df_epoch_times.to_csv(f'./performance-logs/df_epoch_times_{map_name}.csv', index=False)\n",
    "df_overall_performance.to_csv(f'./performance-logs/df_overall_performance_{map_name}.csv', index=False)\n",
    "df_checkpoint_effectiveness.to_csv(f'./performance-logs/df_checkpoint_effectiveness_{map_name}.csv', index=False)"
   ]
  },
  {
   "cell_type": "markdown",
   "metadata": {},
   "source": [
    "## Performance evaluation\n",
    "This section plots and compares all the different performance metrics to get a better understanding of our implementation."
   ]
  },
  {
   "cell_type": "markdown",
   "metadata": {},
   "source": [
    "### Data Preparation\n",
    "This section combines all the previously generated dataframes to be able to work with all collected datapoints."
   ]
  },
  {
   "cell_type": "code",
   "execution_count": null,
   "metadata": {},
   "outputs": [],
   "source": [
    "# work in progress"
   ]
  }
 ],
 "metadata": {
  "kernelspec": {
   "display_name": "Python 3",
   "language": "python",
   "name": "python3"
  },
  "language_info": {
   "codemirror_mode": {
    "name": "ipython",
    "version": 3
   },
   "file_extension": ".py",
   "mimetype": "text/x-python",
   "name": "python",
   "nbconvert_exporter": "python",
   "pygments_lexer": "ipython3",
   "version": "3.10.9"
  }
 },
 "nbformat": 4,
 "nbformat_minor": 2
}
